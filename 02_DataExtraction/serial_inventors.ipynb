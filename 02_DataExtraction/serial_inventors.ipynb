{
 "cells": [
  {
   "cell_type": "code",
   "execution_count": 1,
   "id": "4383ca20",
   "metadata": {},
   "outputs": [],
   "source": [
    "import pandas as pd\n",
    "import random\n",
    "import datetime\n",
    "from credentials import uri, user, pwd\n",
    "from patent_neo4j.connection import Neo4jConnection\n",
    "from functools import reduce"
   ]
  },
  {
   "cell_type": "code",
   "execution_count": 2,
   "id": "63254de2",
   "metadata": {},
   "outputs": [],
   "source": [
    "df = pd.read_csv(\"assignee_multiple_patents.csv\")"
   ]
  },
  {
   "cell_type": "code",
   "execution_count": 3,
   "id": "15b99700",
   "metadata": {},
   "outputs": [],
   "source": [
    "Q1 = df['patent_counts'].quantile(0.25)\n",
    "Q3 = df['patent_counts'].quantile(0.75)"
   ]
  },
  {
   "cell_type": "code",
   "execution_count": 4,
   "id": "22dc18ee",
   "metadata": {},
   "outputs": [],
   "source": [
    "random.seed(100)\n",
    "df = df[(df[\"patent_counts\"] < Q3)]"
   ]
  },
  {
   "cell_type": "code",
   "execution_count": 5,
   "id": "27c0eb67",
   "metadata": {},
   "outputs": [
    {
     "data": {
      "text/html": [
       "<div>\n",
       "<style scoped>\n",
       "    .dataframe tbody tr th:only-of-type {\n",
       "        vertical-align: middle;\n",
       "    }\n",
       "\n",
       "    .dataframe tbody tr th {\n",
       "        vertical-align: top;\n",
       "    }\n",
       "\n",
       "    .dataframe thead th {\n",
       "        text-align: right;\n",
       "    }\n",
       "</style>\n",
       "<table border=\"1\" class=\"dataframe\">\n",
       "  <thead>\n",
       "    <tr style=\"text-align: right;\">\n",
       "      <th></th>\n",
       "      <th>assignee_id</th>\n",
       "      <th>patent_counts</th>\n",
       "    </tr>\n",
       "  </thead>\n",
       "  <tbody>\n",
       "    <tr>\n",
       "      <th>1</th>\n",
       "      <td>000139d6-82b6-4701-8cb7-999296d802fa</td>\n",
       "      <td>11</td>\n",
       "    </tr>\n",
       "    <tr>\n",
       "      <th>2</th>\n",
       "      <td>0002c937-3be3-498d-a07e-3b237bb9aed4</td>\n",
       "      <td>15</td>\n",
       "    </tr>\n",
       "    <tr>\n",
       "      <th>3</th>\n",
       "      <td>0002eaf9-03e6-4200-a404-719cc48d52e1</td>\n",
       "      <td>24</td>\n",
       "    </tr>\n",
       "    <tr>\n",
       "      <th>4</th>\n",
       "      <td>00033f59-25e5-446d-be66-f4b6dd32fbf5</td>\n",
       "      <td>25</td>\n",
       "    </tr>\n",
       "    <tr>\n",
       "      <th>7</th>\n",
       "      <td>0008828e-6ee6-4c43-b234-95c7cf7d48d2</td>\n",
       "      <td>10</td>\n",
       "    </tr>\n",
       "  </tbody>\n",
       "</table>\n",
       "</div>"
      ],
      "text/plain": [
       "                            assignee_id  patent_counts\n",
       "1  000139d6-82b6-4701-8cb7-999296d802fa             11\n",
       "2  0002c937-3be3-498d-a07e-3b237bb9aed4             15\n",
       "3  0002eaf9-03e6-4200-a404-719cc48d52e1             24\n",
       "4  00033f59-25e5-446d-be66-f4b6dd32fbf5             25\n",
       "7  0008828e-6ee6-4c43-b234-95c7cf7d48d2             10"
      ]
     },
     "execution_count": 5,
     "metadata": {},
     "output_type": "execute_result"
    }
   ],
   "source": [
    "df.head()"
   ]
  },
  {
   "cell_type": "code",
   "execution_count": 6,
   "id": "8491e544",
   "metadata": {},
   "outputs": [],
   "source": [
    "assignee_list = list(df[\"assignee_id\"])"
   ]
  },
  {
   "cell_type": "code",
   "execution_count": 7,
   "id": "5e9b2e38",
   "metadata": {},
   "outputs": [],
   "source": [
    "conn = Neo4jConnection(uri, user, pwd)"
   ]
  },
  {
   "cell_type": "code",
   "execution_count": 8,
   "id": "2598174f",
   "metadata": {},
   "outputs": [],
   "source": [
    "ai = conn.query_assignee_patents(assignee_list=assignee_list)"
   ]
  },
  {
   "cell_type": "code",
   "execution_count": 9,
   "id": "e5f74500",
   "metadata": {},
   "outputs": [
    {
     "data": {
      "text/html": [
       "<div>\n",
       "<style scoped>\n",
       "    .dataframe tbody tr th:only-of-type {\n",
       "        vertical-align: middle;\n",
       "    }\n",
       "\n",
       "    .dataframe tbody tr th {\n",
       "        vertical-align: top;\n",
       "    }\n",
       "\n",
       "    .dataframe thead th {\n",
       "        text-align: right;\n",
       "    }\n",
       "</style>\n",
       "<table border=\"1\" class=\"dataframe\">\n",
       "  <thead>\n",
       "    <tr style=\"text-align: right;\">\n",
       "      <th></th>\n",
       "      <th>assignee_id</th>\n",
       "      <th>patent_id</th>\n",
       "      <th>patent_date</th>\n",
       "      <th>nber</th>\n",
       "      <th>num_citation</th>\n",
       "    </tr>\n",
       "  </thead>\n",
       "  <tbody>\n",
       "    <tr>\n",
       "      <th>0</th>\n",
       "      <td>000139d6-82b6-4701-8cb7-999296d802fa</td>\n",
       "      <td>9435744</td>\n",
       "      <td>2016-09-06</td>\n",
       "      <td>None</td>\n",
       "      <td>1</td>\n",
       "    </tr>\n",
       "    <tr>\n",
       "      <th>1</th>\n",
       "      <td>000139d6-82b6-4701-8cb7-999296d802fa</td>\n",
       "      <td>8377713</td>\n",
       "      <td>2013-02-19</td>\n",
       "      <td>19</td>\n",
       "      <td>6</td>\n",
       "    </tr>\n",
       "    <tr>\n",
       "      <th>2</th>\n",
       "      <td>000139d6-82b6-4701-8cb7-999296d802fa</td>\n",
       "      <td>7633397</td>\n",
       "      <td>2009-12-15</td>\n",
       "      <td>21</td>\n",
       "      <td>1</td>\n",
       "    </tr>\n",
       "    <tr>\n",
       "      <th>3</th>\n",
       "      <td>000139d6-82b6-4701-8cb7-999296d802fa</td>\n",
       "      <td>7629885</td>\n",
       "      <td>2009-12-08</td>\n",
       "      <td>21</td>\n",
       "      <td>3</td>\n",
       "    </tr>\n",
       "    <tr>\n",
       "      <th>4</th>\n",
       "      <td>000139d6-82b6-4701-8cb7-999296d802fa</td>\n",
       "      <td>7545280</td>\n",
       "      <td>2009-06-09</td>\n",
       "      <td>21</td>\n",
       "      <td>1</td>\n",
       "    </tr>\n",
       "  </tbody>\n",
       "</table>\n",
       "</div>"
      ],
      "text/plain": [
       "                            assignee_id patent_id patent_date  nber  \\\n",
       "0  000139d6-82b6-4701-8cb7-999296d802fa   9435744  2016-09-06  None   \n",
       "1  000139d6-82b6-4701-8cb7-999296d802fa   8377713  2013-02-19    19   \n",
       "2  000139d6-82b6-4701-8cb7-999296d802fa   7633397  2009-12-15    21   \n",
       "3  000139d6-82b6-4701-8cb7-999296d802fa   7629885  2009-12-08    21   \n",
       "4  000139d6-82b6-4701-8cb7-999296d802fa   7545280  2009-06-09    21   \n",
       "\n",
       "   num_citation  \n",
       "0             1  \n",
       "1             6  \n",
       "2             1  \n",
       "3             3  \n",
       "4             1  "
      ]
     },
     "execution_count": 9,
     "metadata": {},
     "output_type": "execute_result"
    }
   ],
   "source": [
    "ai.head()"
   ]
  },
  {
   "cell_type": "code",
   "execution_count": 10,
   "id": "907ca098",
   "metadata": {},
   "outputs": [],
   "source": [
    "ai = ai.dropna()"
   ]
  },
  {
   "cell_type": "code",
   "execution_count": 11,
   "id": "feebf35d",
   "metadata": {},
   "outputs": [],
   "source": [
    "ai[\"nber_category\"] = ai[\"nber\"].apply(lambda x: x[0])"
   ]
  },
  {
   "cell_type": "code",
   "execution_count": 12,
   "id": "921119d6",
   "metadata": {},
   "outputs": [],
   "source": [
    "ai['patent_date'] = ai['patent_date'].astype(str).apply(datetime.datetime.strptime, args=(\"%Y-%m-%d\",))"
   ]
  },
  {
   "cell_type": "code",
   "execution_count": 13,
   "id": "1ee16935",
   "metadata": {},
   "outputs": [],
   "source": [
    "ai = ai.sort_values(by=[\"assignee_id\", \"patent_date\"], ascending=[True, True]).reset_index()"
   ]
  },
  {
   "cell_type": "code",
   "execution_count": 14,
   "id": "0aa24dc5",
   "metadata": {},
   "outputs": [
    {
     "data": {
      "text/html": [
       "<div>\n",
       "<style scoped>\n",
       "    .dataframe tbody tr th:only-of-type {\n",
       "        vertical-align: middle;\n",
       "    }\n",
       "\n",
       "    .dataframe tbody tr th {\n",
       "        vertical-align: top;\n",
       "    }\n",
       "\n",
       "    .dataframe thead th {\n",
       "        text-align: right;\n",
       "    }\n",
       "</style>\n",
       "<table border=\"1\" class=\"dataframe\">\n",
       "  <thead>\n",
       "    <tr style=\"text-align: right;\">\n",
       "      <th></th>\n",
       "      <th>index</th>\n",
       "      <th>assignee_id</th>\n",
       "      <th>patent_id</th>\n",
       "      <th>patent_date</th>\n",
       "      <th>nber</th>\n",
       "      <th>num_citation</th>\n",
       "      <th>nber_category</th>\n",
       "    </tr>\n",
       "  </thead>\n",
       "  <tbody>\n",
       "    <tr>\n",
       "      <th>0</th>\n",
       "      <td>5</td>\n",
       "      <td>000139d6-82b6-4701-8cb7-999296d802fa</td>\n",
       "      <td>7541926</td>\n",
       "      <td>2009-06-02</td>\n",
       "      <td>21</td>\n",
       "      <td>15</td>\n",
       "      <td>2</td>\n",
       "    </tr>\n",
       "    <tr>\n",
       "      <th>1</th>\n",
       "      <td>4</td>\n",
       "      <td>000139d6-82b6-4701-8cb7-999296d802fa</td>\n",
       "      <td>7545280</td>\n",
       "      <td>2009-06-09</td>\n",
       "      <td>21</td>\n",
       "      <td>1</td>\n",
       "      <td>2</td>\n",
       "    </tr>\n",
       "    <tr>\n",
       "      <th>2</th>\n",
       "      <td>3</td>\n",
       "      <td>000139d6-82b6-4701-8cb7-999296d802fa</td>\n",
       "      <td>7629885</td>\n",
       "      <td>2009-12-08</td>\n",
       "      <td>21</td>\n",
       "      <td>3</td>\n",
       "      <td>2</td>\n",
       "    </tr>\n",
       "    <tr>\n",
       "      <th>3</th>\n",
       "      <td>2</td>\n",
       "      <td>000139d6-82b6-4701-8cb7-999296d802fa</td>\n",
       "      <td>7633397</td>\n",
       "      <td>2009-12-15</td>\n",
       "      <td>21</td>\n",
       "      <td>1</td>\n",
       "      <td>2</td>\n",
       "    </tr>\n",
       "    <tr>\n",
       "      <th>4</th>\n",
       "      <td>1</td>\n",
       "      <td>000139d6-82b6-4701-8cb7-999296d802fa</td>\n",
       "      <td>8377713</td>\n",
       "      <td>2013-02-19</td>\n",
       "      <td>19</td>\n",
       "      <td>6</td>\n",
       "      <td>1</td>\n",
       "    </tr>\n",
       "  </tbody>\n",
       "</table>\n",
       "</div>"
      ],
      "text/plain": [
       "   index                           assignee_id patent_id patent_date nber  \\\n",
       "0      5  000139d6-82b6-4701-8cb7-999296d802fa   7541926  2009-06-02   21   \n",
       "1      4  000139d6-82b6-4701-8cb7-999296d802fa   7545280  2009-06-09   21   \n",
       "2      3  000139d6-82b6-4701-8cb7-999296d802fa   7629885  2009-12-08   21   \n",
       "3      2  000139d6-82b6-4701-8cb7-999296d802fa   7633397  2009-12-15   21   \n",
       "4      1  000139d6-82b6-4701-8cb7-999296d802fa   8377713  2013-02-19   19   \n",
       "\n",
       "   num_citation nber_category  \n",
       "0            15             2  \n",
       "1             1             2  \n",
       "2             3             2  \n",
       "3             1             2  \n",
       "4             6             1  "
      ]
     },
     "execution_count": 14,
     "metadata": {},
     "output_type": "execute_result"
    }
   ],
   "source": [
    "ai.head()"
   ]
  },
  {
   "cell_type": "code",
   "execution_count": 15,
   "id": "1593c99a",
   "metadata": {},
   "outputs": [],
   "source": [
    "ai = ai.drop([\"index\"], axis=1)"
   ]
  },
  {
   "cell_type": "code",
   "execution_count": 16,
   "id": "ba8b4703",
   "metadata": {},
   "outputs": [],
   "source": [
    "ai.to_csv(\"raw_roots_norm.csv\", index=False)"
   ]
  },
  {
   "cell_type": "code",
   "execution_count": null,
   "id": "d991cc8e",
   "metadata": {},
   "outputs": [],
   "source": [
    "assignee_set = set(ai[\"assignee_id\"])"
   ]
  },
  {
   "cell_type": "code",
   "execution_count": null,
   "id": "b085b0c1",
   "metadata": {},
   "outputs": [],
   "source": [
    "ai[\"switch\"] = 0"
   ]
  },
  {
   "cell_type": "code",
   "execution_count": null,
   "id": "67a408f7",
   "metadata": {},
   "outputs": [],
   "source": [
    "ai.head()"
   ]
  },
  {
   "cell_type": "code",
   "execution_count": null,
   "id": "3ab43365",
   "metadata": {},
   "outputs": [],
   "source": [
    "for a in assignee_set:\n",
    "    indices = ai[ai[\"assignee_id\"] == a].index\n",
    "    initial_roots = {ai.iloc[indices[0],6]}\n",
    "    num_switch = 0\n",
    "    for i in indices[1:]:\n",
    "        next_patent_root = ai.iloc[i,6]\n",
    "\n",
    "        if next_patent_root not in initial_roots:\n",
    "            num_switch = num_switch + 1\n",
    "            \n",
    "        ai.iloc[i,7] = num_switch\n",
    "        initial_roots = initial_roots.union(next_patent_root) "
   ]
  },
  {
   "cell_type": "code",
   "execution_count": null,
   "id": "8c5c84ab",
   "metadata": {},
   "outputs": [],
   "source": [
    "ai[ai[\"assignee_id\"] == list(assignee_set)[9]]"
   ]
  },
  {
   "cell_type": "code",
   "execution_count": null,
   "id": "e2c8ee0b",
   "metadata": {},
   "outputs": [],
   "source": [
    "ai.to_csv(\"switchers.csv\", index=False)"
   ]
  },
  {
   "cell_type": "code",
   "execution_count": null,
   "id": "d356252a",
   "metadata": {},
   "outputs": [],
   "source": [
    "assignee_info = ai.groupby('assignee_id').agg(list).reset_index()"
   ]
  },
  {
   "cell_type": "code",
   "execution_count": null,
   "id": "a4c7a154",
   "metadata": {},
   "outputs": [],
   "source": [
    "assignee_info[\"roots\"] = assignee_info[\"nber_category\"].apply(set)\n",
    "assignee_info[\"fine_roots\"] = assignee_info[\"nber\"].apply(set)"
   ]
  },
  {
   "cell_type": "code",
   "execution_count": null,
   "id": "5a7ee084",
   "metadata": {},
   "outputs": [],
   "source": [
    "assignee_info.tail(10)"
   ]
  },
  {
   "cell_type": "code",
   "execution_count": null,
   "id": "4c043d6c",
   "metadata": {},
   "outputs": [],
   "source": [
    "assignee_info[\"num_roots\"] = assignee_info[\"roots\"].apply(len)\n",
    "assignee_info[\"num_fine_roots\"] = assignee_info[\"fine_roots\"].apply(len)\n",
    "assignee_info[\"num_patents\"] = assignee_info[\"patent_id\"].apply(len)\n",
    "assignee_info[\"total_citation\"] = assignee_info[\"num_citation\"].apply(sum)\n",
    "assignee_info[\"avg_citation\"] = assignee_info[\"total_citation\"]/assignee_info[\"num_patents\"]"
   ]
  },
  {
   "cell_type": "code",
   "execution_count": null,
   "id": "ba960a17",
   "metadata": {},
   "outputs": [],
   "source": [
    "assignee_info.head(5)"
   ]
  },
  {
   "cell_type": "code",
   "execution_count": null,
   "id": "60a2e890",
   "metadata": {},
   "outputs": [],
   "source": [
    "assignee_info[[\"num_roots\", \"num_fine_roots\", \"num_patents\", \"total_citation\", \"avg_citation\"]].to_csv(\"roots_and_patents.csv\", index=False)"
   ]
  },
  {
   "cell_type": "code",
   "execution_count": null,
   "id": "66f1610f",
   "metadata": {},
   "outputs": [],
   "source": [
    "by_year"
   ]
  },
  {
   "cell_type": "code",
   "execution_count": 14,
   "id": "de2c9c63",
   "metadata": {},
   "outputs": [
    {
     "name": "stdout",
     "output_type": "stream",
     "text": [
      "1977\n",
      "1978\n",
      "1979\n",
      "1980\n",
      "1981\n",
      "1982\n",
      "1983\n",
      "1984\n",
      "1985\n",
      "1986\n",
      "1987\n",
      "1988\n",
      "1989\n",
      "1990\n",
      "1991\n",
      "1992\n",
      "1993\n",
      "1994\n",
      "1995\n",
      "1996\n",
      "1997\n",
      "1998\n",
      "1999\n",
      "2000\n",
      "2001\n",
      "2002\n",
      "2003\n",
      "2004\n",
      "2005\n",
      "2006\n",
      "2007\n",
      "2008\n",
      "2009\n",
      "2010\n",
      "2011\n",
      "2012\n",
      "2013\n",
      "2014\n",
      "2015\n",
      "2016\n",
      "2017\n"
     ]
    }
   ],
   "source": [
    "by_year = conn.query_patents_subnber_year(1976)\n",
    "for i in range(1977, 2018):\n",
    "    print(i)\n",
    "    by_year = pd.concat([by_year, conn.query_patents_subnber_year(i)], ignore_index=True)"
   ]
  },
  {
   "cell_type": "code",
   "execution_count": 16,
   "id": "450c043f",
   "metadata": {},
   "outputs": [
    {
     "data": {
      "text/html": [
       "<div>\n",
       "<style scoped>\n",
       "    .dataframe tbody tr th:only-of-type {\n",
       "        vertical-align: middle;\n",
       "    }\n",
       "\n",
       "    .dataframe tbody tr th {\n",
       "        vertical-align: top;\n",
       "    }\n",
       "\n",
       "    .dataframe thead th {\n",
       "        text-align: right;\n",
       "    }\n",
       "</style>\n",
       "<table border=\"1\" class=\"dataframe\">\n",
       "  <thead>\n",
       "    <tr style=\"text-align: right;\">\n",
       "      <th></th>\n",
       "      <th>nber</th>\n",
       "      <th>count</th>\n",
       "      <th>year</th>\n",
       "    </tr>\n",
       "  </thead>\n",
       "  <tbody>\n",
       "    <tr>\n",
       "      <th>0</th>\n",
       "      <td>None</td>\n",
       "      <td>1</td>\n",
       "      <td>1976</td>\n",
       "    </tr>\n",
       "    <tr>\n",
       "      <th>1</th>\n",
       "      <td>6</td>\n",
       "      <td>15872</td>\n",
       "      <td>1976</td>\n",
       "    </tr>\n",
       "    <tr>\n",
       "      <th>2</th>\n",
       "      <td>5</td>\n",
       "      <td>16716</td>\n",
       "      <td>1976</td>\n",
       "    </tr>\n",
       "    <tr>\n",
       "      <th>3</th>\n",
       "      <td>1</td>\n",
       "      <td>18432</td>\n",
       "      <td>1976</td>\n",
       "    </tr>\n",
       "    <tr>\n",
       "      <th>4</th>\n",
       "      <td>4</td>\n",
       "      <td>11135</td>\n",
       "      <td>1976</td>\n",
       "    </tr>\n",
       "    <tr>\n",
       "      <th>...</th>\n",
       "      <td>...</td>\n",
       "      <td>...</td>\n",
       "      <td>...</td>\n",
       "    </tr>\n",
       "    <tr>\n",
       "      <th>276</th>\n",
       "      <td>2</td>\n",
       "      <td>42687</td>\n",
       "      <td>2015</td>\n",
       "    </tr>\n",
       "    <tr>\n",
       "      <th>277</th>\n",
       "      <td>None</td>\n",
       "      <td>181393</td>\n",
       "      <td>2015</td>\n",
       "    </tr>\n",
       "    <tr>\n",
       "      <th>278</th>\n",
       "      <td>7</td>\n",
       "      <td>1</td>\n",
       "      <td>2015</td>\n",
       "    </tr>\n",
       "    <tr>\n",
       "      <th>279</th>\n",
       "      <td>None</td>\n",
       "      <td>304126</td>\n",
       "      <td>2016</td>\n",
       "    </tr>\n",
       "    <tr>\n",
       "      <th>280</th>\n",
       "      <td>None</td>\n",
       "      <td>320003</td>\n",
       "      <td>2017</td>\n",
       "    </tr>\n",
       "  </tbody>\n",
       "</table>\n",
       "<p>281 rows × 3 columns</p>\n",
       "</div>"
      ],
      "text/plain": [
       "     nber   count  year\n",
       "0    None       1  1976\n",
       "1       6   15872  1976\n",
       "2       5   16716  1976\n",
       "3       1   18432  1976\n",
       "4       4   11135  1976\n",
       "..    ...     ...   ...\n",
       "276     2   42687  2015\n",
       "277  None  181393  2015\n",
       "278     7       1  2015\n",
       "279  None  304126  2016\n",
       "280  None  320003  2017\n",
       "\n",
       "[281 rows x 3 columns]"
      ]
     },
     "execution_count": 16,
     "metadata": {},
     "output_type": "execute_result"
    }
   ],
   "source": [
    "by_year"
   ]
  },
  {
   "cell_type": "code",
   "execution_count": 15,
   "id": "cbc2c6fa",
   "metadata": {},
   "outputs": [],
   "source": [
    "by_year.to_csv(\"subnber_by_year.csv\", index=False)"
   ]
  },
  {
   "cell_type": "code",
   "execution_count": null,
   "id": "ef879dc4",
   "metadata": {},
   "outputs": [],
   "source": []
  }
 ],
 "metadata": {
  "kernelspec": {
   "display_name": "Python 3 (ipykernel)",
   "language": "python",
   "name": "python3"
  },
  "language_info": {
   "codemirror_mode": {
    "name": "ipython",
    "version": 3
   },
   "file_extension": ".py",
   "mimetype": "text/x-python",
   "name": "python",
   "nbconvert_exporter": "python",
   "pygments_lexer": "ipython3",
   "version": "3.9.13"
  }
 },
 "nbformat": 4,
 "nbformat_minor": 5
}
